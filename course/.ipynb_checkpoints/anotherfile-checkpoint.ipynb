{
 "cells": [
  {
   "cell_type": "markdown",
   "id": "d1a27aba-bb7c-4c03-a1ce-d5dd36b59a54",
   "metadata": {},
   "source": [
    "# Another notebook"
   ]
  },
  {
   "cell_type": "code",
   "execution_count": 1,
   "id": "a956e79c-03d1-4429-aae7-3063f6cc58da",
   "metadata": {},
   "outputs": [
    {
     "name": "stdout",
     "output_type": "stream",
     "text": [
      "Hello\n"
     ]
    }
   ],
   "source": [
    "print(\"Hello\")"
   ]
  }
 ],
 "metadata": {
  "kernelspec": {
   "display_name": "ludwig",
   "language": "python",
   "name": "ludwig"
  },
  "language_info": {
   "codemirror_mode": {
    "name": "ipython",
    "version": 3
   },
   "file_extension": ".py",
   "mimetype": "text/x-python",
   "name": "python",
   "nbconvert_exporter": "python",
   "pygments_lexer": "ipython3",
   "version": "3.9.1"
  }
 },
 "nbformat": 4,
 "nbformat_minor": 5
}
