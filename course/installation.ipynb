{
 "cells": [
  {
   "cell_type": "markdown",
   "id": "c3c7ca08-d50e-43cf-baff-21d15012fbce",
   "metadata": {},
   "source": [
    "# Installations"
   ]
  },
  {
   "cell_type": "markdown",
   "id": "6d020aae-06d3-436e-8ed4-194a85a45472",
   "metadata": {},
   "source": [
    "## Install packages\n",
    "\n",
    "![image.png](assets/avatar.png)\n",
    "**To install packages run the cell below... This may take 4 min or so**"
   ]
  },
  {
   "cell_type": "code",
   "execution_count": null,
   "id": "40e3b882-ff4f-4573-9deb-6c329c19e452",
   "metadata": {},
   "outputs": [],
   "source": [
    "# Installing the tools\n",
    "\n",
    "#!rm -rf semanticClimate\n",
    "\n",
    "!git clone  https://github.com/petermr/semanticClimate.git\n",
    "!pip install -r semanticClimate/keyword_extraction/code/requirement.txt\n",
    "!pip install docanalysis\n",
    "!pip install py4ami==0.0.35\n",
    "!python -m spacy download en_core_web_lg\n",
    "!pip install nltk\n",
    "import nltk\n",
    "nltk.download('stopwords')"
   ]
  },
  {
   "cell_type": "markdown",
   "id": "b1b58c00-05ff-4d27-8461-68eeb0b14de5",
   "metadata": {},
   "source": [
    "***Please don't forget to restart runtime after running the previous cell, else the newly installed packages won't run properly***\n",
    "\n",
    "Also, Once the cell finishes running you can see a green tick along with the number in place of square bracket stating the order in which cells are run and giving information on successful completion of the job."
   ]
  }
 ],
 "metadata": {
  "kernelspec": {
   "display_name": "ludwig",
   "language": "python",
   "name": "ludwig"
  },
  "language_info": {
   "codemirror_mode": {
    "name": "ipython",
    "version": 3
   },
   "file_extension": ".py",
   "mimetype": "text/x-python",
   "name": "python",
   "nbconvert_exporter": "python",
   "pygments_lexer": "ipython3",
   "version": "3.9.1"
  }
 },
 "nbformat": 4,
 "nbformat_minor": 5
}
